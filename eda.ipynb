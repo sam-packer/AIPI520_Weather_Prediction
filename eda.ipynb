{
 "cells": [
  {
   "cell_type": "markdown",
   "id": "82bd3e64",
   "metadata": {},
   "source": [
    "### Exploratory Data Analysis\n",
    "\n",
    "Our goal is to understand temperature patterns at RDU Airport to inform feature engineering decisions.\n",
    "\n",
    "Key questions:\n",
    "1. Is there a trend component?\n",
    "2. What seasonality patterns exist (daily, weekly, annual)?\n",
    "3. What are the autocorrelation patterns?\n",
    "4. Are there anomalies in the data?"
   ]
  },
  {
   "cell_type": "code",
   "execution_count": null,
   "id": "30159e45",
   "metadata": {},
   "outputs": [
    {
     "name": "stdout",
     "output_type": "stream",
     "text": [
      "Dataset Overview\n",
      "============================================================\n",
      "Date range: 2018-01-01 00:00:00-05:00 to 2025-09-30 23:00:00-04:00\n",
      "Total hours: 67919\n",
      "Missing values: 0 (0.00%)\n",
      "\n",
      "Temperature statistics:\n",
      "count    67919.000000\n",
      "mean        17.045498\n",
      "std          9.192286\n",
      "min        -15.600000\n",
      "25%         10.000000\n",
      "50%         18.300000\n",
      "75%         23.900000\n",
      "max         40.000000\n",
      "Name: temp, dtype: float64\n"
     ]
    }
   ],
   "source": [
    "import pandas as pd\n",
    "import numpy as np\n",
    "import matplotlib.pyplot as plt\n",
    "import seaborn as sns\n",
    "from statsmodels.tsa.seasonal import seasonal_decompose\n",
    "from statsmodels.graphics.tsaplots import plot_acf\n",
    "import warnings\n",
    "warnings.filterwarnings('ignore')\n",
    "\n",
    "# Set style\n",
    "plt.style.use('seaborn-v0_8-darkgrid')\n",
    "sns.set_palette(\"husl\")\n",
    "\n",
    "# Load data\n",
    "df = pd.read_csv(\"rdu_weather_full.csv\", index_col=0, parse_dates=True)\n",
    "\n",
    "print(\"Dataset Overview\")\n",
    "print(\"=\"*60)\n",
    "print(f\"Date range: {df.index.min()} to {df.index.max()}\")\n",
    "print(f\"Total hours: {len(df)}\")\n",
    "print(f\"Missing values: {df['temp'].isna().sum()} ({df['temp'].isna().sum()/len(df)*100:.2f}%)\")\n",
    "print(f\"\\nTemperature statistics:\")\n",
    "print(df['temp'].describe())"
   ]
  },
  {
   "cell_type": "markdown",
   "id": "4080a7f4",
   "metadata": {},
   "source": []
  }
 ],
 "metadata": {
  "kernelspec": {
   "display_name": "Python 3",
   "language": "python",
   "name": "python3"
  },
  "language_info": {
   "codemirror_mode": {
    "name": "ipython",
    "version": 3
   },
   "file_extension": ".py",
   "mimetype": "text/x-python",
   "name": "python",
   "nbconvert_exporter": "python",
   "pygments_lexer": "ipython3",
   "version": "3.9.6"
  }
 },
 "nbformat": 4,
 "nbformat_minor": 5
}
