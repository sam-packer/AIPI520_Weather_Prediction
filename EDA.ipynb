{
 "cells": [
  {
   "metadata": {},
   "cell_type": "markdown",
   "source": [
    "## Downloading the data\n",
    "\n",
    "We'll use the same code in the main script to download the CSV data."
   ],
   "id": "382cc5f0c5b6f3f6"
  },
  {
   "cell_type": "code",
   "id": "initial_id",
   "metadata": {
    "collapsed": true,
    "ExecuteTime": {
     "end_time": "2025-10-10T02:53:34.526112Z",
     "start_time": "2025-10-10T02:53:34.333504Z"
    }
   },
   "source": [
    "from datetime import datetime\n",
    "from meteostat import Hourly\n",
    "import os\n",
    "import pandas as pd\n",
    "\n",
    "def download_data():\n",
    "    # Let us be good people and not hammer their API if we already have the data\n",
    "    if not os.path.exists(\"rdu_weather_data.csv\") or not os.path.exists(\"rdu_weather_predict.csv\"):\n",
    "        X_end = datetime(2025, 9, 16, 23, 59)\n",
    "        y_start = datetime(2025, 9, 17)\n",
    "        y_end = datetime(2025, 9, 30, 23, 59)\n",
    "\n",
    "        print(\"Downloading RDU weather data, please wait...\")\n",
    "        X = Hourly('72306', X_start, X_end)\n",
    "        X = X.fetch()\n",
    "        y = Hourly('72306', y_start, y_end)\n",
    "        y = y.fetch()\n",
    "        X.to_csv(\"rdu_weather_data.csv\", index=True)\n",
    "        y.to_csv(\"rdu_weather_predict.csv\", index=True)\n",
    "        print(\"Downloaded and saved data!\")\n",
    "        return X, y\n",
    "    else:\n",
    "        print(\"You already have the weather data downloaded, not redownloading.\")\n",
    "        X = pd.read_csv(\"rdu_weather_data.csv\", index_col=0, parse_dates=True)\n",
    "        y = pd.read_csv(\"rdu_weather_predict.csv\", index_col=0, parse_dates=True)\n",
    "        return X, y\n",
    "\n",
    "X, y = download_data()"
   ],
   "outputs": [
    {
     "name": "stdout",
     "output_type": "stream",
     "text": [
      "You already have the weather data downloaded, not redownloading.\n"
     ]
    }
   ],
   "execution_count": 3
  },
  {
   "metadata": {},
   "cell_type": "markdown",
   "source": [
    "## Missing values\n",
    "\n",
    "We'll see what's missing. My IDE is fancy and I can visualize this in my own environment, but unfortunately that is not reproducible. This shows you which columns are missing the most as a percentage. We can see that `snow` and `tsun` are missing 100%. This is discussed in the README file.\n",
    "\n",
    "The wind gust is missing 99% of the time, also discussed in the README. This is more meant to actually show as a percentage how much data is missing."
   ],
   "id": "625884623dc77b98"
  },
  {
   "metadata": {
    "ExecuteTime": {
     "end_time": "2025-10-10T02:54:19.775820Z",
     "start_time": "2025-10-10T02:54:19.771449Z"
    }
   },
   "cell_type": "code",
   "source": [
    "missing_summary = X.isna().mean().sort_values(ascending=False)\n",
    "print(missing_summary)"
   ],
   "id": "62416e453435f166",
   "outputs": [
    {
     "name": "stdout",
     "output_type": "stream",
     "text": [
      "snow    1.000000\n",
      "tsun    1.000000\n",
      "wpgt    0.994422\n",
      "prcp    0.065400\n",
      "coco    0.050441\n",
      "wdir    0.002071\n",
      "pres    0.000385\n",
      "rhum    0.000000\n",
      "dwpt    0.000000\n",
      "temp    0.000000\n",
      "wspd    0.000000\n",
      "dtype: float64\n"
     ]
    }
   ],
   "execution_count": 5
  }
 ],
 "metadata": {
  "kernelspec": {
   "display_name": "Python 3",
   "language": "python",
   "name": "python3"
  },
  "language_info": {
   "codemirror_mode": {
    "name": "ipython",
    "version": 2
   },
   "file_extension": ".py",
   "mimetype": "text/x-python",
   "name": "python",
   "nbconvert_exporter": "python",
   "pygments_lexer": "ipython2",
   "version": "2.7.6"
  }
 },
 "nbformat": 4,
 "nbformat_minor": 5
}
